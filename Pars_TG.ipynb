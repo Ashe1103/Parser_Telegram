{
  "nbformat": 4,
  "nbformat_minor": 0,
  "metadata": {
    "colab": {
      "provenance": []
    },
    "kernelspec": {
      "name": "python3",
      "display_name": "Python 3"
    },
    "language_info": {
      "name": "python"
    }
  },
  "cells": [
    {
      "cell_type": "code",
      "execution_count": 6,
      "metadata": {
        "id": "9n7rXzcOI6rX"
      },
      "outputs": [],
      "source": [
        "from tkinter import *\n",
        "from functools import partial\n",
        "import progressbar\n",
        "from telethon.sync import TelegramClient\n",
        "import json\n"
      ]
    },
    {
      "cell_type": "code",
      "source": [
        "def Start_Settings(self):\n",
        "    self.title(\"Grabber for Telegram\")  # Название окна\n",
        "\n",
        "    width = int(self.winfo_screenwidth() / 3.5)\n",
        "    height = int(self.winfo_screenheight() / 1.5)  # Создаем окно с размерами width и height\n",
        "    str_size = str(width) + \"x\" + str(height)\n",
        "    self.geometry(str_size)\n",
        "\n",
        "    point_x = int((self.winfo_screenwidth() - width) / 2)\n",
        "    point_y = int((self.winfo_screenheight() - height) / 2)  # Перемещаем окно в центр экрана\n",
        "    str_position = \"+\" + str(point_x) + \"+\" + str(point_y)\n",
        "    self.geometry(str_position)\n",
        "\n",
        "    self.resizable(width=False, height=False)"
      ],
      "metadata": {
        "id": "WATePY1aKKB3"
      },
      "execution_count": 7,
      "outputs": []
    },
    {
      "cell_type": "code",
      "source": [
        "def Grabber(api_id, api_hash, url, vocabulary):\n",
        "    client = TelegramClient('session_name', api_id, api_hash)\n",
        "    client.start()\n",
        "\n",
        "    all_users_details = []  # сюда будем сохранять людей и их сообщения\n",
        "\n",
        "    i = 0\n",
        "    bar = progressbar.ProgressBar().start()  # для визуализации прогресса\n",
        "    for message in client.iter_messages(url, limit=None):\n",
        "\n",
        "        abc = str(message.text)\n",
        "        if abc.find(vocabulary) != -1:  # ищем подстроку\n",
        "            bar.update(i)  # если нашли обновляем прогресс\n",
        "            i += 1\n",
        "\n",
        "            all_users_details.append(\n",
        "                {\"id\": message.sender_id, \"message\": message.text})  # добавляем в список сообщение и id\n",
        "\n",
        "    with open('channel_users.json', 'w', encoding='utf8') as outfile:  # сохраняем в файл\n",
        "        json.dump(all_users_details, outfile, ensure_ascii=False)"
      ],
      "metadata": {
        "id": "9Rqk3PyFKOgy"
      },
      "execution_count": 8,
      "outputs": []
    },
    {
      "cell_type": "code",
      "source": [
        "def get_data(api_id, api_hash, url_text, voc_text):\n",
        "    url = url_text.get()\n",
        "    vocabulary = voc_text.get()\n",
        "    window.destroy()\n",
        "\n",
        "    Grabber(api_id, api_hash, url, vocabulary)\n"
      ],
      "metadata": {
        "id": "0157zUwOKRv5"
      },
      "execution_count": 9,
      "outputs": []
    },
    {
      "cell_type": "code",
      "source": [
        "def get_api(id_text, hash_text):\n",
        "    api_id = int(id_text.get())\n",
        "    api_hash = hash_text.get()\n",
        "\n",
        "    # url lable\n",
        "    url_lable = Label(window, font=\"TNR 12\", text=\"Введите url чата/канала\", width=20)\n",
        "    url_lable.place(x=90, y=275)\n",
        "\n",
        "    url_text = StringVar()\n",
        "    url_entry = Entry(window, justify=CENTER, width=30, textvariable=url_text)\n",
        "    url_entry.place(x=90, y=300)\n",
        "\n",
        "    # voc lable\n",
        "    voc_lable = Label(window, font=\"TNR 12\", text=\"Введите ключевое слово\", width=20)\n",
        "    voc_lable.place(x=90, y=325)\n",
        "\n",
        "    voc_text = StringVar()\n",
        "    voc_entry = Entry(window, justify=CENTER, width=30, textvariable=voc_text)\n",
        "    voc_entry.place(x=90, y=350)\n",
        "\n",
        "    enter_button = Button(window, text=\"Начать\", width=6, height=6,\n",
        "                          command=partial(get_data, api_id, api_hash, url_text, voc_text))\n",
        "    enter_button.place(x=120, y=380, width=120, height=50)"
      ],
      "metadata": {
        "id": "kaq8_uNfKTyR"
      },
      "execution_count": 10,
      "outputs": []
    },
    {
      "cell_type": "code",
      "source": [
        "window = Tk()\n",
        "Start_Settings(window)\n",
        "\n",
        "# logo telegram\n",
        "telegram_logo = PhotoImage(file=\"telegram.png\")\n",
        "telegram_lable = Label(image=telegram_logo)\n",
        "telegram_lable.place(x=85, y=50)\n",
        "\n",
        "# api id lable\n",
        "id_lable = Label(window, font=\"TNR 12\", text=\"Введите api ID\", width=20)\n",
        "id_lable.place(x=90, y=275)\n",
        "\n",
        "# api id entry\n",
        "id_text = IntVar()\n",
        "id_entry = Entry(window, justify=CENTER, width=30, textvariable=id_text)\n",
        "id_entry.place(x=90, y=300)\n",
        "\n",
        "# api hash lable\n",
        "hash_lable = Label(window, font=\"TNR 12\", text=\"Введите api HASH\", width=20)\n",
        "hash_lable.place(x=90, y=325)\n",
        "\n",
        "# api hash\n",
        "hash_text = StringVar()\n",
        "hash_entry = Entry(window, justify=CENTER, width=30, textvariable=hash_text)\n",
        "hash_entry.place(x=90, y=350)\n",
        "\n",
        "# button\n",
        "enter_button = Button(window, text=\"Далее\", width=6, height=6, command=partial(get_api, id_text, hash_text))\n",
        "enter_button.place(x=120, y=380, width=120, height=50)\n",
        "\n",
        "window.mainloop()"
      ],
      "metadata": {
        "id": "DCGsepGEKWAB"
      },
      "execution_count": 11,
      "outputs": []
    },
    {
      "cell_type": "code",
      "source": [],
      "metadata": {
        "id": "Fvo4ktokKYT2"
      },
      "execution_count": null,
      "outputs": []
    }
  ]
}